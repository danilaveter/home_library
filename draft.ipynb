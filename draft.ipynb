{
 "cells": [
  {
   "cell_type": "code",
   "execution_count": 2,
   "metadata": {},
   "outputs": [
    {
     "ename": "ISBNNotConsistentError",
     "evalue": "isbn request != isbn response (9789025878887 not in [{'type': 'ISBN_13', 'identifier': '9789025853785'}, {'type': 'ISBN_10', 'identifier': '9025853781'}])",
     "output_type": "error",
     "traceback": [
      "\u001b[1;31m---------------------------------------------------------------------------\u001b[0m",
      "\u001b[1;31mISBNNotConsistentError\u001b[0m                    Traceback (most recent call last)",
      "Cell \u001b[1;32mIn[2], line 5\u001b[0m\n\u001b[0;32m      1\u001b[0m \u001b[38;5;28;01mimport\u001b[39;00m \u001b[38;5;21;01misbnlib\u001b[39;00m\n\u001b[0;32m      3\u001b[0m service\u001b[38;5;241m=\u001b[39m\u001b[38;5;124m'\u001b[39m\u001b[38;5;124mdefault\u001b[39m\u001b[38;5;124m'\u001b[39m\n\u001b[1;32m----> 5\u001b[0m bookdata \u001b[38;5;241m=\u001b[39m \u001b[43misbnlib\u001b[49m\u001b[38;5;241;43m.\u001b[39;49m\u001b[43mmeta\u001b[49m\u001b[43m(\u001b[49m\u001b[38;5;124;43m'\u001b[39;49m\u001b[38;5;124;43m9789025878887\u001b[39;49m\u001b[38;5;124;43m'\u001b[39;49m\u001b[43m,\u001b[49m\u001b[43m \u001b[49m\u001b[43mservice\u001b[49m\u001b[43m \u001b[49m\u001b[38;5;241;43m=\u001b[39;49m\u001b[43m \u001b[49m\u001b[43mservice\u001b[49m\u001b[43m)\u001b[49m\n\u001b[0;32m      6\u001b[0m \u001b[38;5;28mprint\u001b[39m(bookdata)\n",
      "File \u001b[1;32mc:\\Users\\DanilMelnikov\\Documents\\GitHub\\home_library\\venv\\Lib\\site-packages\\isbnlib\\_ext.py:25\u001b[0m, in \u001b[0;36mmeta\u001b[1;34m(isbn, service)\u001b[0m\n\u001b[0;32m     23\u001b[0m \u001b[38;5;28;01mdef\u001b[39;00m \u001b[38;5;21mmeta\u001b[39m(isbn, service\u001b[38;5;241m=\u001b[39m\u001b[38;5;124m'\u001b[39m\u001b[38;5;124mdefault\u001b[39m\u001b[38;5;124m'\u001b[39m):\n\u001b[0;32m     24\u001b[0m \u001b[38;5;250m    \u001b[39m\u001b[38;5;124;03m\"\"\"Get metadata from Google Books ('goob'), Open Library ('openl'), ...\"\"\"\u001b[39;00m\n\u001b[1;32m---> 25\u001b[0m     \u001b[38;5;28;01mreturn\u001b[39;00m \u001b[43mquery\u001b[49m\u001b[43m(\u001b[49m\u001b[43misbn\u001b[49m\u001b[43m,\u001b[49m\u001b[43m \u001b[49m\u001b[43mservice\u001b[49m\u001b[43m)\u001b[49m \u001b[38;5;28;01mif\u001b[39;00m isbn \u001b[38;5;28;01melse\u001b[39;00m {}\n",
      "File \u001b[1;32mc:\\Users\\DanilMelnikov\\Documents\\GitHub\\home_library\\venv\\Lib\\site-packages\\isbnlib\\dev\\_decorators.py:27\u001b[0m, in \u001b[0;36mcache.<locals>.memoized_func\u001b[1;34m(*args, **kwargs)\u001b[0m\n\u001b[0;32m     25\u001b[0m     \u001b[38;5;28;01mreturn\u001b[39;00m cch[key]\n\u001b[0;32m     26\u001b[0m \u001b[38;5;28;01melse\u001b[39;00m:\n\u001b[1;32m---> 27\u001b[0m     value \u001b[38;5;241m=\u001b[39m \u001b[43mfunc\u001b[49m\u001b[43m(\u001b[49m\u001b[38;5;241;43m*\u001b[39;49m\u001b[43margs\u001b[49m\u001b[43m,\u001b[49m\u001b[43m \u001b[49m\u001b[38;5;241;43m*\u001b[39;49m\u001b[38;5;241;43m*\u001b[39;49m\u001b[43mkwargs\u001b[49m\u001b[43m)\u001b[49m\n\u001b[0;32m     28\u001b[0m     \u001b[38;5;28;01mif\u001b[39;00m value:\n\u001b[0;32m     29\u001b[0m         cch[key] \u001b[38;5;241m=\u001b[39m value\n",
      "File \u001b[1;32mc:\\Users\\DanilMelnikov\\Documents\\GitHub\\home_library\\venv\\Lib\\site-packages\\isbnlib\\_metadata.py:33\u001b[0m, in \u001b[0;36mquery\u001b[1;34m(isbn, service)\u001b[0m\n\u001b[0;32m     30\u001b[0m     LOGGER\u001b[38;5;241m.\u001b[39mcritical(\u001b[38;5;124m'\u001b[39m\u001b[38;5;132;01m%s\u001b[39;00m\u001b[38;5;124m is not a valid service\u001b[39m\u001b[38;5;124m'\u001b[39m, service)\n\u001b[0;32m     31\u001b[0m     \u001b[38;5;28;01mraise\u001b[39;00m NotRecognizedServiceError(service)\n\u001b[1;32m---> 33\u001b[0m meta \u001b[38;5;241m=\u001b[39m \u001b[43mservices\u001b[49m\u001b[43m[\u001b[49m\u001b[43mservice\u001b[49m\u001b[43m]\u001b[49m\u001b[43m(\u001b[49m\u001b[43misbn\u001b[49m\u001b[43m)\u001b[49m\n\u001b[0;32m     34\u001b[0m \u001b[38;5;28;01mreturn\u001b[39;00m meta \u001b[38;5;129;01mor\u001b[39;00m {}\n",
      "File \u001b[1;32mc:\\Users\\DanilMelnikov\\Documents\\GitHub\\home_library\\venv\\Lib\\site-packages\\isbnlib\\_goob.py:79\u001b[0m, in \u001b[0;36mquery\u001b[1;34m(isbn)\u001b[0m\n\u001b[0;32m     77\u001b[0m     LOGGER\u001b[38;5;241m.\u001b[39mdebug(\u001b[38;5;124m'\u001b[39m\u001b[38;5;124mNo data from \u001b[39m\u001b[38;5;124m\"\u001b[39m\u001b[38;5;124mgoob\u001b[39m\u001b[38;5;124m\"\u001b[39m\u001b[38;5;124m for isbn \u001b[39m\u001b[38;5;132;01m%s\u001b[39;00m\u001b[38;5;124m'\u001b[39m, isbn)\n\u001b[0;32m     78\u001b[0m     \u001b[38;5;28;01mreturn\u001b[39;00m {}\n\u001b[1;32m---> 79\u001b[0m \u001b[38;5;28;01mreturn\u001b[39;00m \u001b[43m_records\u001b[49m\u001b[43m(\u001b[49m\u001b[43misbn\u001b[49m\u001b[43m,\u001b[49m\u001b[43m \u001b[49m\u001b[43mdata\u001b[49m\u001b[43m)\u001b[49m\n",
      "File \u001b[1;32mc:\\Users\\DanilMelnikov\\Documents\\GitHub\\home_library\\venv\\Lib\\site-packages\\isbnlib\\_goob.py:60\u001b[0m, in \u001b[0;36m_records\u001b[1;34m(isbn, data)\u001b[0m\n\u001b[0;32m     57\u001b[0m     \u001b[38;5;28;01mif\u001b[39;00m u(\u001b[38;5;124m'\u001b[39m\u001b[38;5;124mISBN_13\u001b[39m\u001b[38;5;124m'\u001b[39m) \u001b[38;5;129;01min\u001b[39;00m \u001b[38;5;28mrepr\u001b[39m(ids) \u001b[38;5;129;01mand\u001b[39;00m isbn \u001b[38;5;129;01mnot\u001b[39;00m \u001b[38;5;129;01min\u001b[39;00m \u001b[38;5;28mrepr\u001b[39m(\n\u001b[0;32m     58\u001b[0m             ids):  \u001b[38;5;66;03m# pragma: no cover\u001b[39;00m\n\u001b[0;32m     59\u001b[0m         LOGGER\u001b[38;5;241m.\u001b[39mdebug(\u001b[38;5;124m'\u001b[39m\u001b[38;5;124mISBNNotConsistentError for \u001b[39m\u001b[38;5;132;01m%s\u001b[39;00m\u001b[38;5;124m (\u001b[39m\u001b[38;5;132;01m%s\u001b[39;00m\u001b[38;5;124m)\u001b[39m\u001b[38;5;124m'\u001b[39m, isbn, \u001b[38;5;28mrepr\u001b[39m(ids))\n\u001b[1;32m---> 60\u001b[0m         \u001b[38;5;28;01mraise\u001b[39;00m ISBNNotConsistentError(\u001b[38;5;124m'\u001b[39m\u001b[38;5;132;01m{0}\u001b[39;00m\u001b[38;5;124m not in \u001b[39m\u001b[38;5;132;01m{1}\u001b[39;00m\u001b[38;5;124m'\u001b[39m\u001b[38;5;241m.\u001b[39mformat(\n\u001b[0;32m     61\u001b[0m             isbn,\n\u001b[0;32m     62\u001b[0m             \u001b[38;5;28mrepr\u001b[39m(ids),\n\u001b[0;32m     63\u001b[0m         ))\n\u001b[0;32m     64\u001b[0m \u001b[38;5;28;01melse\u001b[39;00m:\n\u001b[0;32m     65\u001b[0m     \u001b[38;5;28;01mreturn\u001b[39;00m {}  \u001b[38;5;66;03m# pragma: no cover\u001b[39;00m\n",
      "\u001b[1;31mISBNNotConsistentError\u001b[0m: isbn request != isbn response (9789025878887 not in [{'type': 'ISBN_13', 'identifier': '9789025853785'}, {'type': 'ISBN_10', 'identifier': '9025853781'}])"
     ]
    }
   ],
   "source": [
    "import isbnlib\n",
    "\n",
    "service='kb'\n",
    "isbn = input('Enter the ISBN -->  ')\n",
    "\n",
    "bookdata = isbnlib.meta(isbn, service = service)\n",
    "print(bookdata)"
   ]
  }
 ],
 "metadata": {
  "kernelspec": {
   "display_name": "venv",
   "language": "python",
   "name": "python3"
  },
  "language_info": {
   "codemirror_mode": {
    "name": "ipython",
    "version": 3
   },
   "file_extension": ".py",
   "mimetype": "text/x-python",
   "name": "python",
   "nbconvert_exporter": "python",
   "pygments_lexer": "ipython3",
   "version": "3.12.3"
  }
 },
 "nbformat": 4,
 "nbformat_minor": 2
}
