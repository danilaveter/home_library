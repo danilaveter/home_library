{
 "cells": [
  {
   "cell_type": "code",
   "execution_count": 2,
   "metadata": {},
   "outputs": [
    {
     "name": "stdout",
     "output_type": "stream",
     "text": [
      "{'ISBN-13': '9781838690588', 'Title': 'How Ships Work 1', 'Authors': ['Lonely Planet Kids Staff', 'Clive Gifford'], 'Publisher': 'Lonely Planet Kids', 'Year': '2020', 'Language': 'en'}\n"
     ]
    }
   ],
   "source": [
    "import isbnlib\n",
    "\n",
    "service='default'\n",
    "isbn = input('Enter the ISBN -->  ')\n",
    "\n",
    "bookdata = isbnlib.meta(isbn, service = service)\n",
    "print(bookdata)"
   ]
  }
 ],
 "metadata": {
  "kernelspec": {
   "display_name": "Python 3",
   "language": "python",
   "name": "python3"
  },
  "language_info": {
   "codemirror_mode": {
    "name": "ipython",
    "version": 3
   },
   "file_extension": ".py",
   "mimetype": "text/x-python",
   "name": "python",
   "nbconvert_exporter": "python",
   "pygments_lexer": "ipython3",
   "version": "3.11.3"
  }
 },
 "nbformat": 4,
 "nbformat_minor": 2
}
